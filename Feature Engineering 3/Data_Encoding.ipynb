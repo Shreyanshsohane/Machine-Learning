{
 "cells": [
  {
   "cell_type": "markdown",
   "metadata": {},
   "source": [
    "### DATA ENCODING\n",
    "We need to encode the data into a format that can be used by our machine learning model basically to conert Categorical data to Numerical data"
   ]
  },
  {
   "cell_type": "markdown",
   "metadata": {},
   "source": [
    "Types of Data Encoding\n",
    "1. Nminal/OHE (One hot Encoding)\n",
    "2. Ordinal and Label encoding\n",
    "3. Target Guided Ordinal Encoding\n"
   ]
  },
  {
   "cell_type": "markdown",
   "metadata": {},
   "source": []
  }
 ],
 "metadata": {
  "language_info": {
   "name": "python"
  },
  "orig_nbformat": 4
 },
 "nbformat": 4,
 "nbformat_minor": 2
}
