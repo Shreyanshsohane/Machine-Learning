{
 "cells": [
  {
   "cell_type": "markdown",
   "metadata": {},
   "source": [
    "### PCA(Principal Component Analysis)\n",
    "Suppose humare paas 2 feature h House size and number of rooms h ab hum chahte h ki koi ek feature leke price ka model banae . Is case m basically when size of house increases then number of rooms will also increase so we can plot number of roooms in x - axis and make model acordingly but isme kya hoga humara house size ka data loss ho jaega . Therefore PCA comes into picture usme ek line draw karte h aisi joki sabse jhada points ko cover kare jisko hum bolte h fit line fir usme sare points ko project kardete h\n",
    "number of rooms and house size ko merge karke ek feature bana denge PC1 isse feature kam ho jaega fir price Aur PC1 se model train karenge\n",
    "\n"
   ]
  },
  {
   "cell_type": "markdown",
   "metadata": {},
   "source": []
  }
 ],
 "metadata": {
  "language_info": {
   "name": "python"
  },
  "orig_nbformat": 4
 },
 "nbformat": 4,
 "nbformat_minor": 2
}
